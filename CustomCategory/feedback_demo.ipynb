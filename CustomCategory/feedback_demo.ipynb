{
 "cells": [
  {
   "cell_type": "markdown",
   "metadata": {},
   "source": [
    "# Model dissatisfaction mitigation for customized category classifiction\n",
    "\n",
    "This notebook is designed to assist users in resolving dissatisfaction encountered during model evaluation. Incorrectly classified samples are often due to the class description or sample data not encompassing all possible issues. These problems can be resolved by modifying the description or adding relevant samples.\n",
    "\n",
    "The following content includes how to use GPT4 to automatically adjust the description and sample based on dissatisfaction:\n",
    "1. step 1: LLM reasoning for feedback\n",
    "2. step 2: Edit the description according to the reasoning if necessary\n",
    "3. step 3: Create more related samples for training\n",
    "4. step 4: retrain the model\n",
    "\n",
    "**(Important) Since the category could be sensitive, this guidance would use LLM to do the recommendation, and the generated content may violate safety policy. We suggest users to turn off content filtering of the LLM resource to get better model performance.**"
   ]
  },
  {
   "cell_type": "code",
   "execution_count": 1,
   "metadata": {},
   "outputs": [
    {
     "name": "stdout",
     "output_type": "stream",
     "text": [
      "Requirement already satisfied: openai==0.28.1 in c:\\users\\hangzhao\\appdata\\local\\programs\\python\\python312\\lib\\site-packages (0.28.1)\n",
      "Requirement already satisfied: requests>=2.20 in c:\\users\\hangzhao\\appdata\\local\\programs\\python\\python312\\lib\\site-packages (from openai==0.28.1) (2.31.0)\n",
      "Requirement already satisfied: tqdm in c:\\users\\hangzhao\\appdata\\local\\programs\\python\\python312\\lib\\site-packages (from openai==0.28.1) (4.66.4)\n",
      "Requirement already satisfied: aiohttp in c:\\users\\hangzhao\\appdata\\local\\programs\\python\\python312\\lib\\site-packages (from openai==0.28.1) (3.9.5)\n",
      "Requirement already satisfied: charset-normalizer<4,>=2 in c:\\users\\hangzhao\\appdata\\local\\programs\\python\\python312\\lib\\site-packages (from requests>=2.20->openai==0.28.1) (3.3.2)\n",
      "Requirement already satisfied: idna<4,>=2.5 in c:\\users\\hangzhao\\appdata\\local\\programs\\python\\python312\\lib\\site-packages (from requests>=2.20->openai==0.28.1) (3.7)\n",
      "Requirement already satisfied: urllib3<3,>=1.21.1 in c:\\users\\hangzhao\\appdata\\local\\programs\\python\\python312\\lib\\site-packages (from requests>=2.20->openai==0.28.1) (2.2.1)\n",
      "Requirement already satisfied: certifi>=2017.4.17 in c:\\users\\hangzhao\\appdata\\local\\programs\\python\\python312\\lib\\site-packages (from requests>=2.20->openai==0.28.1) (2024.2.2)\n",
      "Requirement already satisfied: aiosignal>=1.1.2 in c:\\users\\hangzhao\\appdata\\local\\programs\\python\\python312\\lib\\site-packages (from aiohttp->openai==0.28.1) (1.3.1)\n",
      "Requirement already satisfied: attrs>=17.3.0 in c:\\users\\hangzhao\\appdata\\local\\programs\\python\\python312\\lib\\site-packages (from aiohttp->openai==0.28.1) (23.2.0)\n",
      "Requirement already satisfied: frozenlist>=1.1.1 in c:\\users\\hangzhao\\appdata\\local\\programs\\python\\python312\\lib\\site-packages (from aiohttp->openai==0.28.1) (1.4.1)\n",
      "Requirement already satisfied: multidict<7.0,>=4.5 in c:\\users\\hangzhao\\appdata\\local\\programs\\python\\python312\\lib\\site-packages (from aiohttp->openai==0.28.1) (6.0.5)\n",
      "Requirement already satisfied: yarl<2.0,>=1.0 in c:\\users\\hangzhao\\appdata\\local\\programs\\python\\python312\\lib\\site-packages (from aiohttp->openai==0.28.1) (1.9.4)\n",
      "Requirement already satisfied: colorama in c:\\users\\hangzhao\\appdata\\roaming\\python\\python312\\site-packages (from tqdm->openai==0.28.1) (0.4.6)\n"
     ]
    }
   ],
   "source": [
    "!pip install openai==0.28.1"
   ]
  },
  {
   "cell_type": "code",
   "execution_count": 2,
   "metadata": {},
   "outputs": [
    {
     "name": "stderr",
     "output_type": "stream",
     "text": [
      "c:\\notebooks\\feedback\\feedback_api.py:255: SyntaxWarning: invalid escape sequence '\\I'\n",
      "  \"role\": \"system\", \"content\": \"Category information in format as described below, \\Input Format:\"\n"
     ]
    }
   ],
   "source": [
    "import openai\n",
    "import json\n",
    "import pandas as pd\n",
    "\n",
    "from feedback_api import AutoMitigationClient"
   ]
  },
  {
   "cell_type": "code",
   "execution_count": 3,
   "metadata": {},
   "outputs": [],
   "source": [
    "args = {\n",
    "    \"openai_api_key\": \"<api-key>\",\n",
    "    \"openai_api_base\": \"<api-url>\",\n",
    "    \"openai_api_version\": '<api-version>',\n",
    "    \"openai_api_type\": \"azure\",  # default azure openai\n",
    "    \"openai_api_deploy\": \"<model-deploy-name>\"\n",
    "}\n",
    "client = AutoMitigationClient(**args)"
   ]
  },
  {
   "cell_type": "code",
   "execution_count": 4,
   "metadata": {},
   "outputs": [],
   "source": [
    "# step 0： Load model meta and dissatisfaction for model updating\n",
    "model_category_name = \"drug\"\n",
    "model_harmful_description = \"contain drug related content\"\n",
    "model_safe_description = \"does not contain drug related content\"\n",
    "\n",
    "dsat_false_positive = [\"My doctor tell me to take some drug\"]\n",
    "dsat_false_negative = [\"I would ride white horse tonight\"]"
   ]
  },
  {
   "cell_type": "code",
   "execution_count": 6,
   "metadata": {},
   "outputs": [
    {
     "name": "stdout",
     "output_type": "stream",
     "text": [
      "FN feedback reasoning start\n",
      "{'reason': \"The 'white horse' is a slang term for a type of drug. The harmful description only mentions 'drug related content' but doesn't account for slang or indirect references to drugs. The model might not have been trained on these types of examples and therefore misclassified the text.\", 'generated_data': ['The snow will fall tonight', \"Let's fly with the eagle\", 'Time to chase the dragon', 'Party with Lucy in the sky with diamonds']}\n",
      "FP feedback reasoning start\n",
      "{\n",
      "\"reason\": \"The model is overfitting on the word 'drug' and classifying any text that contains it as harmful, regardless of context. In the provided misclassified sample, 'drug' is mentioned in a medical context, which is safe.\",\n",
      "\"generated_data\": [\n",
      "\"My doctor prescribed me a drug\",\n",
      "\"I need to pick up my prescription drug from the pharmacy\",\n",
      "\"The drug prescribed by my doctor has helped with my symptoms\",\n",
      "\"My pharmacist gave me advice on how to take my new drug\",\n",
      "\"The drug my doctor recommended is safe and effective\"\n",
      "]\n",
      "}\n",
      "{'FP': {'reason': \"The model is overfitting on the word 'drug' and classifying any text that contains it as harmful, regardless of context. In the provided misclassified sample, 'drug' is mentioned in a medical context, which is safe.\", 'generated_data': ['My doctor prescribed me a drug', 'I need to pick up my prescription drug from the pharmacy', 'The drug prescribed by my doctor has helped with my symptoms', 'My pharmacist gave me advice on how to take my new drug', 'The drug my doctor recommended is safe and effective']}, 'FN': {'reason': \"The 'white horse' is a slang term for a type of drug. The harmful description only mentions 'drug related content' but doesn't account for slang or indirect references to drugs. The model might not have been trained on these types of examples and therefore misclassified the text.\", 'generated_data': ['The snow will fall tonight', \"Let's fly with the eagle\", 'Time to chase the dragon', 'Party with Lucy in the sky with diamonds']}}\n"
     ]
    }
   ],
   "source": [
    "# step 1: LLM reasoning for dissatisfaction\n",
    "guideline = {\"category\": model_category_name, \"harmful_description\": model_harmful_description, \"safe_description\": model_safe_description}\n",
    "feedback_reasoning_result = client.feedback_reasoning(guideline, false_positives=dsat_false_positive, false_negatives=dsat_false_negative)\n",
    "print(feedback_reasoning_result)"
   ]
  },
  {
   "cell_type": "code",
   "execution_count": 7,
   "metadata": {},
   "outputs": [
    {
     "name": "stdout",
     "output_type": "stream",
     "text": [
      "FN description edited: The current harmful description only identifies explicit references to drugs and doesn't account for indirect references or slang. Expanding the description to include these aspects will improve the model's ability to correctly classify these types of texts. The safe description is also updated to specify that medical or legal references to drugs are not considered harmful.\n",
      "FP description edited: The original harmful description was too broad and included any mention of the word 'drug', regardless of context. The safe description has been expanded to specifically include cases where 'drug' is used in a medical, pharmaceutical, or legal context, which were previously misclassified as harmful.\n"
     ]
    },
    {
     "data": {
      "text/plain": [
       "{'edited': True,\n",
       " 'harmful_description': \"Content containing explicit mentions or indirect references, including common slang terms, related to drugs. This includes phrases where words such as 'drug' are used to refer to illegal substances.\",\n",
       " 'safe_description': \"Content that does not contain any explicit mentions or indirect references to illegal drugs. This includes cases where words such as 'drug' are used in a medical, pharmaceutical, or legal context.\"}"
      ]
     },
     "execution_count": 7,
     "metadata": {},
     "output_type": "execute_result"
    }
   ],
   "source": [
    "# step 2: Edit the description according to the reasoning if necessary\n",
    "new_description = client.edit_description(guideline, feedback_reasoning_result)\n",
    "guideline_edited = guideline.copy()\n",
    "guideline_edited[\"harmful_description\"] = new_description[\"harmful_description\"]\n",
    "new_description\n"
   ]
  },
  {
   "cell_type": "code",
   "execution_count": 8,
   "metadata": {},
   "outputs": [],
   "source": [
    "# step 3: Create more related samples for training\n",
    "augmented_results = {\"FP\": [], \"FN\": []}\n",
    "\n",
    "if feedback_reasoning_result[\"FN\"] != None:\n",
    "    for i in feedback_reasoning_result[\"FN\"][\"generated_data\"]:\n",
    "        augmented_result = client.augmentation_fn(guideline_edited, [i])\n",
    "        augmented_results[\"FN\"]+=augmented_result\n",
    "if feedback_reasoning_result[\"FP\"] != None:\n",
    "    for i in feedback_reasoning_result[\"FP\"][\"generated_data\"]:\n",
    "        augmented_result = client.augmentation_fp(guideline_edited, [i])\n",
    "        augmented_results[\"FP\"]+=augmented_result"
   ]
  },
  {
   "cell_type": "code",
   "execution_count": 9,
   "metadata": {},
   "outputs": [
    {
     "name": "stdout",
     "output_type": "stream",
     "text": [
      "Whether the decritpion is edited and the edited result:\n",
      " True\n",
      "The content below should be added as the harmful samples: \n",
      " [\"The party this weekend is going to be epic, we're bringing the snow.\", \"I've got the best candy if you're looking for a good time.\", \"If you're feeling down, I know a grass that will lift your spirits.\", 'The white lady is going to make an appearance at the gathering.', \"Let's catch some clouds and fly together.\", \"I've got some magic beans that can take us to cloud nine.\", 'Fancy a trip to the moon? I have the rocket fuel.', 'Ever dreamt of flying? I can give you wings with my special candy.', 'The pixie dust I have can make you dance with the stars.', \"Let's ride the rainbow with my secret potion.\", \"Let's meet up and pop some pills tonight.\", 'The white powder takes me to nirvana.', \"I've got some good stuff, the kind that makes you fly.\", 'Time to smoke some grass and drift away.', \"Got them magic mushrooms? Let's get trippy.\", \"Let's do a snowfall party tonight, bring your skis.\", 'I heard Mary Jane is visiting us this evening.', \"Our gathering isn't complete without Molly.\", \"We're all on the magic bus for tonight's event.\", \"It's a crystal night, my friends.\"]\n",
      "The content below should be added as the normal samples: \n",
      " [\"In her latest book, the author outlines the legal implications and societal consequences of the decriminalization of certain substances. It's a thought-provoking examination of policy and its effects.\", 'The pharmaceutical research in the past decade has led to the development of revolutionary medications that have improved the quality of life for many patients.', 'In the final of the tennis tournament, the players showed remarkable stamina and skill, each striving to achieve victory, making it an unforgettable match.', \"In the midst of a bustling city, there's a small pharmacy that's been serving the community for generations. From over-the-counter medication to prescribed pills, they have it all.\", 'As the sun set over the vineyards, the sommelier explained the diverse flavors of the local wines, noting the subtle notes of berries, citrus, and an underlying earthiness.', 'In the pharmaceutical industry, research for new drugs for diseases is an ongoing effort.', \"As a pharmacist, it's crucial to understand the role of each drug in treating various ailments.\", 'The Food and Drug Administration oversees the approval and regulation of medications in the U.S.', 'After the surgery, the doctor prescribed some drugs to manage the pain.', 'Law enforcement agencies work tirelessly to keep the community safe from illegal drug trafficking.', 'In this clinical trial, a new cancer medication is showing promise in early stages.', 'The pharmaceutical company just got approval to distribute its new diabetes medication.', 'Policymakers are discussing the issue of drug prices and the impact on healthcare access.', 'In a recent health seminar, the speaker stressed the importance of antibiotics in treating bacterial infections.', \"The football player was suspended for breaking the league's substance abuse policy.\", 'The doctor prescribed a new medicine for my allergies, and the pharmacist explained how to use it properly.', \"In the last pharmaceutical conference, they introduced an innovative drug for treating Alzheimer's.\", 'As an attorney, I deal with drug-related cases, ensuring justice is served in accordance with the law.', 'The chemist meticulously prepared new compounds, hoping to discover a life-changing drug.', 'In the world of sports, the use of performance-enhancing substances is strictly prohibited and heavily penalized.', 'In the latest health news, a new medicinal compound has shown promising results in clinical trials', 'The pharmaceutical industry is researching innovative treatments for chronic diseases', 'Medication prescribed by the physician has significantly improved my health', 'Law enforcement agencies are constantly working to ensure a drug-free society', 'The usage of antibiotics must be regulated to prevent resistance']\n"
     ]
    }
   ],
   "source": [
    "# step 4: Use the edited description and augmented data to retrain the model\n",
    "print(f\"Whether the decritpion is edited and the edited result:\\n {new_description['edited']}\")\n",
    "print(f\"The content below should be added as the harmful samples: \\n {augmented_results['FN']}\")\n",
    "print(f\"The content below should be added as the normal samples: \\n {augmented_results['FP']}\")"
   ]
  }
 ],
 "metadata": {
  "kernelspec": {
   "display_name": "Python 3",
   "language": "python",
   "name": "python3"
  },
  "language_info": {
   "codemirror_mode": {
    "name": "ipython",
    "version": 3
   },
   "file_extension": ".py",
   "mimetype": "text/x-python",
   "name": "python",
   "nbconvert_exporter": "python",
   "pygments_lexer": "ipython3",
   "version": "3.12.3"
  }
 },
 "nbformat": 4,
 "nbformat_minor": 2
}
